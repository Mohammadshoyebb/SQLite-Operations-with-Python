{
  "nbformat": 4,
  "nbformat_minor": 0,
  "metadata": {
    "colab": {
      "provenance": []
    },
    "kernelspec": {
      "name": "python3",
      "display_name": "Python 3"
    },
    "language_info": {
      "name": "python"
    }
  },
  "cells": [
    {
      "cell_type": "markdown",
      "source": [
        "# **Create or Connect DataBase**"
      ],
      "metadata": {
        "id": "ygYJAe9vRRW0"
      }
    },
    {
      "cell_type": "code",
      "source": [
        "import sqlite3\n",
        "SqlConnection = sqlite3.connect('sql.db')"
      ],
      "metadata": {
        "id": "r-w3cdnNRadJ"
      },
      "execution_count": null,
      "outputs": []
    },
    {
      "cell_type": "markdown",
      "source": [
        "# To execute query Cursor method is used\n"
      ],
      "metadata": {
        "id": "Fk4vuawDR8ms"
      }
    },
    {
      "cell_type": "code",
      "source": [
        "cursorrr = SqlConnection.cursor()"
      ],
      "metadata": {
        "id": "YPfKFc2WRkFe"
      },
      "execution_count": null,
      "outputs": []
    },
    {
      "cell_type": "markdown",
      "source": [
        "# **Write a Query & Execute it With Cursor**"
      ],
      "metadata": {
        "id": "IgHap1YpSU4G"
      }
    },
    {
      "cell_type": "code",
      "source": [
        "query = 'select sqlite_version();'\n",
        "cursorrr.execute(query)"
      ],
      "metadata": {
        "colab": {
          "base_uri": "https://localhost:8080/"
        },
        "id": "aj8mzfBFSL5G",
        "outputId": "4cc21b95-a84f-4dba-ceb4-2594c60e8dbc"
      },
      "execution_count": null,
      "outputs": [
        {
          "output_type": "execute_result",
          "data": {
            "text/plain": [
              "<sqlite3.Cursor at 0x7b1991349240>"
            ]
          },
          "metadata": {},
          "execution_count": 6
        }
      ]
    },
    {
      "cell_type": "code",
      "source": [
        "#Fetch and Output Result\n",
        "\n",
        "result = cursorrr.fetchall()\n",
        "print('SQLite Version is {}'.format(result))\n",
        "\n",
        "\n",
        "cursorrr.close()"
      ],
      "metadata": {
        "colab": {
          "base_uri": "https://localhost:8080/"
        },
        "id": "rg4-Q9xhSP2U",
        "outputId": "eca65603-9522-49cd-d154-4f87f0746daa"
      },
      "execution_count": null,
      "outputs": [
        {
          "output_type": "stream",
          "name": "stdout",
          "text": [
            "SQLite Version is [('3.37.2',)]\n"
          ]
        }
      ]
    },
    {
      "cell_type": "code",
      "source": [
        "try:\n",
        "\n",
        "  SqlConnection = sqlite3.connect('sql.db')\n",
        "  cursorrr = SqlConnection.cursor()\n",
        "  print('DB INIT')\n",
        "\n",
        "  query = 'select sqlite_version();'\n",
        "  cursorrr.execute(query)\n",
        "\n",
        "\n",
        "  result = cursorrr.fetchall()\n",
        "  print('SQLite Version is {}'.format(result))\n",
        "\n",
        "\n",
        "  cursorrr.close()\n",
        "\n",
        "\n",
        "#Handle Errors\n",
        "except sqlite3.Error as error:\n",
        "  print('Error Occured - ',error)\n",
        "\n",
        "\n",
        "finally:\n",
        "  if SqlConnection:\n",
        "    SqlConnection.close()\n",
        "    print('SQLITE CONNECTION CLOSED')\n",
        "\n",
        "\n"
      ],
      "metadata": {
        "colab": {
          "base_uri": "https://localhost:8080/"
        },
        "id": "pIbOZkTHTR8m",
        "outputId": "d6bf65e3-27b8-44bc-c824-94ebf536266c"
      },
      "execution_count": null,
      "outputs": [
        {
          "output_type": "stream",
          "name": "stdout",
          "text": [
            "DB INIT\n",
            "SQLite Version is [('3.37.2',)]\n",
            "SQLITE CONNECTION CLOSED\n"
          ]
        }
      ]
    },
    {
      "cell_type": "markdown",
      "source": [
        "# **Create a Table and Add 10 records**"
      ],
      "metadata": {
        "id": "4D1RHnmoVdQc"
      }
    },
    {
      "cell_type": "code",
      "source": [
        "import sqlite3\n",
        "connection = sqlite3.connect(\"EmpDetails\")\n",
        "connection.execute('''CREATE TABLE IF NOT EXISTS Emp\n",
        "(EmpId INT PRIMARY KEY NOT NULL,\n",
        "EmpName TEXT NOT NULL,\n",
        "EmpDept TEXT NOT NULL,\n",
        "EmpAge INT NOT NULL,\n",
        "EmpSalary INT NOT NULL)\n",
        "''')\n",
        "connection.execute(\"INSERT INTO Emp VALUES (201,'Ujjawal','DS',21,90000)\")\n",
        "connection.execute(\"INSERT INTO Emp VALUES (202,'Satya','AIML',22,80000)\")\n",
        "connection.execute(\"INSERT INTO Emp VALUES (203,'Raj','IOT',23,70000)\")\n",
        "connection.execute(\"INSERT INTO Emp VALUES (204,'Arnav','MCA',24,60000)\")\n",
        "connection.execute(\"INSERT INTO Emp VALUES (205,'Arman','MBA',25,50000)\")\n",
        "connection.execute(\"INSERT INTO Emp VALUES (206,'Arjun','AI',26,40000)\")\n",
        "connection.execute(\"INSERT INTO Emp VALUES (207,'Deepak','MTECH',27,30000)\")\n",
        "# Additional entries\n",
        "connection.execute(\"INSERT INTO Emp VALUES (208,'John','DS',28,80000)\")\n",
        "connection.execute(\"INSERT INTO Emp VALUES (209,'Jane','AIML',29,70000)\")\n",
        "connection.execute(\"INSERT INTO Emp VALUES (210,'Doe','IOT',30,60000)\")\n",
        "connection.execute(\"INSERT INTO Emp VALUES (211,'Smith','MCA',31,50000)\")\n",
        "connection.execute(\"INSERT INTO Emp VALUES (212,'Brown','MBA',32,40000)\")\n",
        "connection.execute(\"INSERT INTO Emp VALUES (213,'Taylor','AI',33,30000)\")\n",
        "connection.execute(\"INSERT INTO Emp VALUES (214,'Johnson','MTECH',34,20000)\")\n",
        "connection.execute(\"INSERT INTO Emp VALUES (215,'Williams','DS',35,10000)\")\n",
        "\n",
        "# Fetch all rows from the table\n",
        "cursor = connection.cursor()\n",
        "rows = cursor.execute(\"SELECT * FROM Emp\").fetchall()\n",
        "\n",
        "# Print all rows\n",
        "for row in rows:\n",
        "    print(row)\n",
        "\n"
      ],
      "metadata": {
        "colab": {
          "base_uri": "https://localhost:8080/"
        },
        "id": "ztTCGMRUU0Zi",
        "outputId": "abcdf18b-05d5-4c83-a3e2-51da9b4be6d4"
      },
      "execution_count": null,
      "outputs": [
        {
          "output_type": "stream",
          "name": "stdout",
          "text": [
            "(201, 'Ujjawal', 'DS', 21, 90000)\n",
            "(202, 'Satya', 'AIML', 22, 80000)\n",
            "(203, 'Raj', 'IOT', 23, 70000)\n",
            "(204, 'Arnav', 'MCA', 24, 60000)\n",
            "(205, 'Arman', 'MBA', 25, 50000)\n",
            "(206, 'Arjun', 'AI', 26, 40000)\n",
            "(207, 'Deepak', 'MTECH', 27, 30000)\n",
            "(208, 'John', 'DS', 28, 80000)\n",
            "(209, 'Jane', 'AIML', 29, 70000)\n",
            "(210, 'Doe', 'IOT', 30, 60000)\n",
            "(211, 'Smith', 'MCA', 31, 50000)\n",
            "(212, 'Brown', 'MBA', 32, 40000)\n",
            "(213, 'Taylor', 'AI', 33, 30000)\n",
            "(214, 'Johnson', 'MTECH', 34, 20000)\n",
            "(215, 'Williams', 'DS', 35, 10000)\n"
          ]
        }
      ]
    },
    {
      "cell_type": "code",
      "source": [
        "rows = cursor.execute(\"SELECT EmpName, EmpAge FROM Emp\").fetchall()\n",
        "\n",
        "# Print 'EmpName' and 'EmpAge'\n",
        "for row in rows:\n",
        "    print(row)\n"
      ],
      "metadata": {
        "colab": {
          "base_uri": "https://localhost:8080/"
        },
        "id": "UMFP4fe_Y9Z5",
        "outputId": "d0f6ca80-8ba1-46ff-f977-a3a24d46ecd8"
      },
      "execution_count": null,
      "outputs": [
        {
          "output_type": "stream",
          "name": "stdout",
          "text": [
            "('Ujjawal', 21)\n",
            "('Satya', 22)\n",
            "('Raj', 23)\n",
            "('Arnav', 24)\n",
            "('Arman', 25)\n",
            "('Arjun', 26)\n",
            "('Deepak', 27)\n",
            "('John', 28)\n",
            "('Jane', 29)\n",
            "('Doe', 30)\n",
            "('Smith', 31)\n",
            "('Brown', 32)\n",
            "('Taylor', 33)\n",
            "('Johnson', 34)\n",
            "('Williams', 35)\n"
          ]
        }
      ]
    },
    {
      "cell_type": "code",
      "source": [
        "# Fetch 'EmpName' and 'EmpAge' attributes from rows where 'EmpSalary' is greater than 50000\n",
        "rows = cursor.execute(\"SELECT EmpName, EmpAge FROM Emp WHERE EmpSalary > 50000\").fetchall()\n",
        "\n",
        "# Print 'EmpName' and 'EmpAge'\n",
        "for row in rows:\n",
        "    print(row)\n"
      ],
      "metadata": {
        "colab": {
          "base_uri": "https://localhost:8080/"
        },
        "id": "pK-9BY0NZVrz",
        "outputId": "aa7ad154-de98-49de-d6d1-a70b567ed9b1"
      },
      "execution_count": null,
      "outputs": [
        {
          "output_type": "stream",
          "name": "stdout",
          "text": [
            "('Ujjawal', 21)\n",
            "('Satya', 22)\n",
            "('Raj', 23)\n",
            "('Arnav', 24)\n",
            "('John', 28)\n",
            "('Jane', 29)\n",
            "('Doe', 30)\n"
          ]
        }
      ]
    },
    {
      "cell_type": "code",
      "source": [
        "# Fetch 'EmpName' and 'EmpAge' attributes from rows where 'EmpSalary' is greater than 50000 and 'EmpAge' is less than 30\n",
        "rows = cursor.execute(\"SELECT EmpName, EmpAge FROM Emp WHERE EmpSalary > 50000 AND EmpAge < 30\").fetchall()\n",
        "\n",
        "# Print 'EmpName' and 'EmpAge'\n",
        "for row in rows:\n",
        "    print(row)"
      ],
      "metadata": {
        "colab": {
          "base_uri": "https://localhost:8080/"
        },
        "id": "5yhWwz8FZvcY",
        "outputId": "f9102077-9b25-4bc8-9ffd-273c120dd1b8"
      },
      "execution_count": null,
      "outputs": [
        {
          "output_type": "stream",
          "name": "stdout",
          "text": [
            "('Ujjawal', 21)\n",
            "('Satya', 22)\n",
            "('Raj', 23)\n",
            "('Arnav', 24)\n",
            "('John', 28)\n",
            "('Jane', 29)\n"
          ]
        }
      ]
    },
    {
      "cell_type": "code",
      "source": [
        "# Fetch all records from the table and order them by 'EmpSalary' in descending order\n",
        "rows = cursor.execute(\"SELECT * FROM Emp ORDER BY EmpSalary DESC\").fetchall()\n",
        "\n",
        "# Print all records\n",
        "for row in rows:\n",
        "    print(row)"
      ],
      "metadata": {
        "colab": {
          "base_uri": "https://localhost:8080/"
        },
        "id": "Nswl7_bKaATg",
        "outputId": "1e6dc6a9-029f-4b40-f94f-924ae97b126f"
      },
      "execution_count": null,
      "outputs": [
        {
          "output_type": "stream",
          "name": "stdout",
          "text": [
            "(201, 'Ujjawal', 'DS', 21, 90000)\n",
            "(202, 'Satya', 'AIML', 22, 80000)\n",
            "(208, 'John', 'DS', 28, 80000)\n",
            "(203, 'Raj', 'IOT', 23, 70000)\n",
            "(209, 'Jane', 'AIML', 29, 70000)\n",
            "(204, 'Arnav', 'MCA', 24, 60000)\n",
            "(210, 'Doe', 'IOT', 30, 60000)\n",
            "(205, 'Arman', 'MBA', 25, 50000)\n",
            "(211, 'Smith', 'MCA', 31, 50000)\n",
            "(206, 'Arjun', 'AI', 26, 40000)\n",
            "(212, 'Brown', 'MBA', 32, 40000)\n",
            "(207, 'Deepak', 'MTECH', 27, 30000)\n",
            "(213, 'Taylor', 'AI', 33, 30000)\n",
            "(214, 'Johnson', 'MTECH', 34, 20000)\n",
            "(215, 'Williams', 'DS', 35, 10000)\n"
          ]
        }
      ]
    },
    {
      "cell_type": "code",
      "source": [
        "# Fetch top 4 records from the table\n",
        "rows = cursor.execute(\"SELECT * FROM Emp ORDER BY EmpSalary DESC LIMIT 4\").fetchall()\n",
        "\n",
        "# Print the records\n",
        "for row in rows:\n",
        "    print(row)"
      ],
      "metadata": {
        "colab": {
          "base_uri": "https://localhost:8080/"
        },
        "id": "d3bPfjSaa2v_",
        "outputId": "2f71efab-bd8b-465b-8e6a-35eb0c3b9944"
      },
      "execution_count": null,
      "outputs": [
        {
          "output_type": "stream",
          "name": "stdout",
          "text": [
            "(201, 'Ujjawal', 'DS', 21, 90000)\n",
            "(202, 'Satya', 'AIML', 22, 80000)\n",
            "(208, 'John', 'DS', 28, 80000)\n",
            "(203, 'Raj', 'IOT', 23, 70000)\n"
          ]
        }
      ]
    },
    {
      "cell_type": "code",
      "source": [
        "\n",
        "# Fetch records where 'EmpDept' is 'DS'\n",
        "rows = cursor.execute(\"SELECT * FROM Emp WHERE EmpDept = 'DS'\").fetchall()\n",
        "\n",
        "# Print the records before update\n",
        "print(\"Before update:\")\n",
        "for row in rows:\n",
        "    print(row)\n",
        "\n",
        "# Update 'EmpSalary' for all records where 'EmpDept' is 'DS'\n",
        "cursor.execute(\"UPDATE Emp SET EmpSalary = 2500000 WHERE EmpDept = 'DS'\")\n",
        "\n",
        "# Fetch records where 'EmpDept' is 'DS'\n",
        "rows = cursor.execute(\"SELECT * FROM Emp WHERE EmpDept = 'DS'\").fetchall()\n",
        "\n",
        "# Print the records after update\n",
        "print(\"After update:\")\n",
        "for row in rows:\n",
        "    print(row)\n",
        "\n",
        "\n"
      ],
      "metadata": {
        "colab": {
          "base_uri": "https://localhost:8080/"
        },
        "id": "zxWX3-0mbKS0",
        "outputId": "dee06a90-0de8-4baf-fb61-cec7eca3ed26"
      },
      "execution_count": null,
      "outputs": [
        {
          "output_type": "stream",
          "name": "stdout",
          "text": [
            "Before update:\n",
            "(201, 'Ujjawal', 'DS', 21, 90000)\n",
            "(208, 'John', 'DS', 28, 80000)\n",
            "(215, 'Williams', 'DS', 35, 10000)\n",
            "After update:\n",
            "(201, 'Ujjawal', 'DS', 21, 2500000)\n",
            "(208, 'John', 'DS', 28, 2500000)\n",
            "(215, 'Williams', 'DS', 35, 2500000)\n"
          ]
        }
      ]
    },
    {
      "cell_type": "code",
      "source": [
        "# Fetch records where 'EmpDept' is 'IOT'\n",
        "rows = cursor.execute(\"SELECT * FROM Emp WHERE EmpDept = 'IOT'\").fetchall()\n",
        "\n",
        "# Print the records before deletion\n",
        "print(\"Before deletion:\")\n",
        "for row in rows:\n",
        "    print(row)\n",
        "\n",
        "# Delete records where 'EmpDept' is 'IOT'\n",
        "cursor.execute(\"DELETE FROM Emp WHERE EmpDept = 'IOT'\")\n",
        "\n",
        "# Fetch all records from the table\n",
        "rows = cursor.execute(\"SELECT * FROM Emp\").fetchall()\n",
        "\n",
        "# Print the records after deletion\n",
        "print(\"After deletion:\")\n",
        "for row in rows:\n",
        "    print(row)\n"
      ],
      "metadata": {
        "colab": {
          "base_uri": "https://localhost:8080/"
        },
        "id": "t4jUXR6mbq0z",
        "outputId": "841bde0d-c674-465f-c39c-8fe2fb556813"
      },
      "execution_count": null,
      "outputs": [
        {
          "output_type": "stream",
          "name": "stdout",
          "text": [
            "Before deletion:\n",
            "After deletion:\n",
            "(201, 'Ujjawal', 'DS', 21, 2500000)\n",
            "(202, 'Satya', 'AIML', 22, 80000)\n",
            "(204, 'Arnav', 'MCA', 24, 60000)\n",
            "(205, 'Arman', 'MBA', 25, 50000)\n",
            "(206, 'Arjun', 'AI', 26, 40000)\n",
            "(207, 'Deepak', 'MTECH', 27, 30000)\n",
            "(208, 'John', 'DS', 28, 2500000)\n",
            "(209, 'Jane', 'AIML', 29, 70000)\n",
            "(211, 'Smith', 'MCA', 31, 50000)\n",
            "(212, 'Brown', 'MBA', 32, 40000)\n",
            "(213, 'Taylor', 'AI', 33, 30000)\n",
            "(214, 'Johnson', 'MTECH', 34, 20000)\n",
            "(215, 'Williams', 'DS', 35, 2500000)\n"
          ]
        }
      ]
    },
    {
      "cell_type": "code",
      "source": [
        "# Fetch all records from the table\n",
        "rows = cursor.execute(\"SELECT * FROM Emp\").fetchall()\n",
        "\n",
        "# Print the records before fetching\n",
        "print(\"Before fetching:\")\n",
        "for row in rows:\n",
        "    print(row)\n",
        "\n",
        "# Fetch min, max, avg, sum of 'EmpSalary'\n",
        "min_salary = cursor.execute(\"SELECT MIN(EmpSalary) FROM Emp\").fetchone()[0]\n",
        "max_salary = cursor.execute(\"SELECT MAX(EmpSalary) FROM Emp\").fetchone()[0]\n",
        "avg_salary = cursor.execute(\"SELECT AVG(EmpSalary) FROM Emp\").fetchone()[0]\n",
        "sum_salary = cursor.execute(\"SELECT SUM(EmpSalary) FROM Emp\").fetchone()[0]\n",
        "\n",
        "# Print min, max, avg, sum of 'EmpSalary'\n",
        "print(\"\\nMin Salary: \", min_salary)\n",
        "print(\"Max Salary: \", max_salary)\n",
        "print(\"Average Salary: \", avg_salary)\n",
        "print(\"Sum of Salaries: \", sum_salary)\n",
        "\n"
      ],
      "metadata": {
        "id": "HlVRGo5dcG0_",
        "colab": {
          "base_uri": "https://localhost:8080/"
        },
        "outputId": "9d69490a-62c0-447e-8660-bfe4ceea3440"
      },
      "execution_count": null,
      "outputs": [
        {
          "output_type": "stream",
          "name": "stdout",
          "text": [
            "Before fetching:\n",
            "(201, 'Ujjawal', 'DS', 21, 2500000)\n",
            "(202, 'Satya', 'AIML', 22, 80000)\n",
            "(204, 'Arnav', 'MCA', 24, 60000)\n",
            "(205, 'Arman', 'MBA', 25, 50000)\n",
            "(206, 'Arjun', 'AI', 26, 40000)\n",
            "(207, 'Deepak', 'MTECH', 27, 30000)\n",
            "(208, 'John', 'DS', 28, 2500000)\n",
            "(209, 'Jane', 'AIML', 29, 70000)\n",
            "(211, 'Smith', 'MCA', 31, 50000)\n",
            "(212, 'Brown', 'MBA', 32, 40000)\n",
            "(213, 'Taylor', 'AI', 33, 30000)\n",
            "(214, 'Johnson', 'MTECH', 34, 20000)\n",
            "(215, 'Williams', 'DS', 35, 2500000)\n",
            "\n",
            "Min Salary:  20000\n",
            "Max Salary:  2500000\n",
            "Average Salary:  613076.9230769231\n",
            "Sum of Salaries:  7970000\n"
          ]
        }
      ]
    },
    {
      "cell_type": "code",
      "source": [
        "# Fetch 'EmpName' column from the table\n",
        "rows = cursor.execute(\"SELECT EmpName FROM Emp\").fetchall()\n",
        "\n",
        "# Print 'EmpName' for all records\n",
        "for row in rows:\n",
        "    print(row[0])"
      ],
      "metadata": {
        "colab": {
          "base_uri": "https://localhost:8080/"
        },
        "id": "kAI4heTXc1jY",
        "outputId": "53f3edcd-e26c-41c8-c1ac-18a1eb9e4ec3"
      },
      "execution_count": null,
      "outputs": [
        {
          "output_type": "stream",
          "name": "stdout",
          "text": [
            "Ujjawal\n",
            "Satya\n",
            "Arnav\n",
            "Arman\n",
            "Arjun\n",
            "Deepak\n",
            "John\n",
            "Jane\n",
            "Smith\n",
            "Brown\n",
            "Taylor\n",
            "Johnson\n",
            "Williams\n"
          ]
        }
      ]
    },
    {
      "cell_type": "code",
      "source": [],
      "metadata": {
        "id": "BbyX4oqjdgll"
      },
      "execution_count": null,
      "outputs": []
    }
  ]
}